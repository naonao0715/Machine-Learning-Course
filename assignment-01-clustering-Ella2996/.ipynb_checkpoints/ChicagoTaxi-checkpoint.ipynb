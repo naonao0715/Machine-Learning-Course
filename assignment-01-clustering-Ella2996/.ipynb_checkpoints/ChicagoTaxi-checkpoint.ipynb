{
 "cells": [
  {
   "cell_type": "code",
   "execution_count": 107,
   "id": "breeding-plenty",
   "metadata": {},
   "outputs": [],
   "source": [
    "import pandas as pd\n",
    "import numpy as np\n",
    "## load the dataset\n",
    "df = pd.read_csv('chicago_taxi.csv')\n",
    "df.dropna(inplace=True)\n",
    "df = df.iloc[:, 17:19]"
   ]
  },
  {
   "cell_type": "markdown",
   "id": "clinical-conjunction",
   "metadata": {},
   "source": [
    "### 1. At the begining, I want to pick DBSCAN as there are seems to have some outliers ad Kmean and Hierarchical are both sensitive to outliers. But then I found out it takes a really really long time to run and never finish if we set the max_dist to a small value. If we set it to a lower value, then it will lead to lots of clusters (realy bad results)  So I decide to pick KMeans as the clustering algorithms as instead. By looking at distributions of the data,  it seems it contains several clusters (which look like “spheroids” ) which can be easily clustered using Kmeans with number of clusters around 5-6.  "
   ]
  },
  {
   "cell_type": "code",
   "execution_count": 108,
   "id": "introductory-hundred",
   "metadata": {},
   "outputs": [
    {
     "data": {
      "image/png": "[encoded data removed]",
      "text/plain": [
       "<Figure size 432x288 with 1 Axes>"
      ]
     },
     "metadata": {
      "needs_background": "light"
     },
     "output_type": "display_data"
    }
   ],
   "source": [
    "import matplotlib.pyplot as plt\n",
    "plt.scatter(df['Pickup Centroid Latitude'], df['Pickup Centroid Longitude'])\n",
    "plt.show()"
   ]
  },
  {
   "cell_type": "markdown",
   "id": "functional-summit",
   "metadata": {},
   "source": [
    "### 2. preprocessing of data to have zero mean and unit standard variance, hyperparametters include number of clusters, tolerance for convergence, number of initializations and number of iterations"
   ]
  },
  {
   "cell_type": "code",
   "execution_count": 109,
   "id": "pressing-citation",
   "metadata": {},
   "outputs": [
    {
     "data": {
      "text/plain": [
       "array([[ 0.00896   ,  0.35691431],\n",
       "       [-0.04627637,  0.45983922],\n",
       "       [-0.00725974,  0.27777141],\n",
       "       ...,\n",
       "       [-3.70106159, -1.39039963],\n",
       "       [ 3.0241977 , -3.52139027],\n",
       "       [ 0.00896   ,  0.35691431]])"
      ]
     },
     "execution_count": 109,
     "metadata": {},
     "output_type": "execute_result"
    }
   ],
   "source": [
    "from sklearn.preprocessing import StandardScaler\n",
    "scaler = StandardScaler()\n",
    "scaler.fit(df)\n",
    "scaled_data = scaler.transform(df)\n",
    "scaled_data"
   ]
  },
  {
   "cell_type": "markdown",
   "id": "through-georgia",
   "metadata": {},
   "source": [
    "### Output from the algorithm"
   ]
  },
  {
   "cell_type": "code",
   "execution_count": 110,
   "id": "hispanic-asian",
   "metadata": {},
   "outputs": [
    {
     "data": {
      "text/plain": [
       "array([[-0.39222221,  0.26791099],\n",
       "       [ 0.10826433,  0.34328106],\n",
       "       [-3.7065187 , -1.30323058],\n",
       "       [ 1.79272228, -0.04540538],\n",
       "       [ 3.02417671, -3.52043682]])"
      ]
     },
     "execution_count": 110,
     "metadata": {},
     "output_type": "execute_result"
    }
   ],
   "source": [
    "from sklearn.cluster import KMeans\n",
    "k = 5\n",
    "kmeans = KMeans(init='random', n_clusters=k, random_state=0)\n",
    "labels = kmeans.fit_predict(scaled_data)\n",
    "kmeans.cluster_centers_"
   ]
  },
  {
   "cell_type": "code",
   "execution_count": 111,
   "id": "afraid-article",
   "metadata": {},
   "outputs": [
    {
     "name": "stdout",
     "output_type": "stream",
     "text": [
      "cluster 0 has 101762 samples\n",
      "cluster 1 has 62340 samples\n",
      "cluster 2 has 2538 samples\n",
      "cluster 3 has 2058 samples\n",
      "cluster 4 has 12857 samples\n"
     ]
    },
    {
     "data": {
      "image/png": "[encoded data removed]",
      "text/plain": [
       "<Figure size 432x288 with 1 Axes>"
      ]
     },
     "metadata": {
      "needs_background": "light"
     },
     "output_type": "display_data"
    }
   ],
   "source": [
    "color = ['red', 'green', 'blue', 'yellow', 'black']\n",
    "for i in range(k):\n",
    "    plt.scatter(scaled_data[labels == i , 0] , scaled_data[labels == i , 1] , label = i)\n",
    "    print(\"cluster \" + str(i) + \" has \" + str(np.sum(labels == i)) + \" samples\")\n",
    "plt.scatter(kmeans.cluster_centers_[:,0] , kmeans.cluster_centers_[:,1] , s = 8, color = 'k')\n",
    "plt.legend()\n",
    "plt.show()"
   ]
  },
  {
   "cell_type": "code",
   "execution_count": 112,
   "id": "light-trinidad",
   "metadata": {},
   "outputs": [
    {
     "data": {
      "text/plain": [
       "array([[ 41.88099043, -87.63256776],\n",
       "       [ 41.89535866, -87.62718802],\n",
       "       [ 41.78584185, -87.74471236],\n",
       "       [ 41.94371697, -87.65493159],\n",
       "       [ 41.97907022, -87.90297161]])"
      ]
     },
     "execution_count": 112,
     "metadata": {},
     "output_type": "execute_result"
    }
   ],
   "source": [
    "scaler.inverse_transform(kmeans.cluster_centers_)"
   ]
  },
  {
   "cell_type": "markdown",
   "id": "convinced-generator",
   "metadata": {},
   "source": [
    "### Use inertial (Within-cluster sum-of-squares) to measure the performance of Kmeans. Generally visually the cluster output looks reasonable, but 2 are affected by outliers."
   ]
  },
  {
   "cell_type": "code",
   "execution_count": 113,
   "id": "orange-correlation",
   "metadata": {},
   "outputs": [
    {
     "data": {
      "text/plain": [
       "9348.907995369238"
      ]
     },
     "execution_count": 113,
     "metadata": {},
     "output_type": "execute_result"
    }
   ],
   "source": [
    "kmeans.inertia_"
   ]
  },
  {
   "cell_type": "markdown",
   "id": "stopped-madness",
   "metadata": {},
   "source": [
    "### determine the best K"
   ]
  },
  {
   "cell_type": "code",
   "execution_count": 114,
   "id": "greatest-lyric",
   "metadata": {},
   "outputs": [],
   "source": [
    "kmeans_inertia = pd.DataFrame(data=[], index=range(2, 21), columns=['inertia'])\n",
    "\n",
    "for n_clusters in range(2, 21):\n",
    "    kmeans = KMeans(n_clusters=n_clusters)\n",
    "    cutoff = 99\n",
    "    kmeans.fit(scaled_data)\n",
    "    kmeans_inertia.loc[n_clusters] = kmeans.inertia_"
   ]
  },
  {
   "cell_type": "code",
   "execution_count": 115,
   "id": "conscious-zoning",
   "metadata": {},
   "outputs": [
    {
     "data": {
      "image/png": "[encoded data removed]",
      "text/plain": [
       "<Figure size 432x288 with 1 Axes>"
      ]
     },
     "metadata": {
      "needs_background": "light"
     },
     "output_type": "display_data"
    }
   ],
   "source": [
    "ax = plt.gca()\n",
    "\n",
    "kmeans_inertia.plot(kind='line', y='inertia', ax=ax)\n",
    "plt.show()"
   ]
  },
  {
   "cell_type": "markdown",
   "id": "exempt-height",
   "metadata": {},
   "source": [
    "### running DBSCAN after reducing number of data points"
   ]
  },
  {
   "cell_type": "code",
   "execution_count": 117,
   "id": "transsexual-signature",
   "metadata": {},
   "outputs": [
    {
     "data": {
      "text/plain": [
       "array([ 0,  1,  0, ...,  5,  1, 11])"
      ]
     },
     "execution_count": 117,
     "metadata": {},
     "output_type": "execute_result"
    }
   ],
   "source": [
    "\n",
    "from sklearn.cluster import DBSCAN\n",
    "max_dist = 0.1\n",
    "hoodsize=10\n",
    "cluster = DBSCAN(eps=max_dist, min_samples=hoodsize)\n",
    "scaled_data = scaled_data[:50000]\n",
    "cluster.fit(scaled_data)\n",
    "# Association between observations & clusters.\n",
    "cluster.labels_"
   ]
  },
  {
   "cell_type": "code",
   "execution_count": 118,
   "id": "traditional-compensation",
   "metadata": {},
   "outputs": [
    {
     "data": {
      "text/plain": [
       "45"
      ]
     },
     "execution_count": 118,
     "metadata": {},
     "output_type": "execute_result"
    }
   ],
   "source": [
    "label_uni = np.unique(cluster.labels_)\n",
    "len(label_uni)"
   ]
  },
  {
   "cell_type": "code",
   "execution_count": 119,
   "id": "gothic-moment",
   "metadata": {},
   "outputs": [
    {
     "name": "stdout",
     "output_type": "stream",
     "text": [
      "cluster -1 has 139 samples\n",
      "cluster 0 has 10018 samples\n",
      "cluster 1 has 2565 samples\n",
      "cluster 2 has 5900 samples\n",
      "cluster 3 has 160 samples\n",
      "cluster 4 has 3509 samples\n",
      "cluster 5 has 4528 samples\n",
      "cluster 6 has 1591 samples\n",
      "cluster 7 has 685 samples\n",
      "cluster 8 has 8776 samples\n",
      "cluster 9 has 2169 samples\n",
      "cluster 10 has 665 samples\n",
      "cluster 11 has 4004 samples\n",
      "cluster 12 has 13 samples\n",
      "cluster 13 has 643 samples\n",
      "cluster 14 has 1475 samples\n",
      "cluster 15 has 472 samples\n",
      "cluster 16 has 1366 samples\n",
      "cluster 17 has 71 samples\n",
      "cluster 18 has 55 samples\n",
      "cluster 19 has 193 samples\n",
      "cluster 20 has 31 samples\n",
      "cluster 21 has 85 samples\n",
      "cluster 22 has 15 samples\n",
      "cluster 23 has 146 samples\n",
      "cluster 24 has 56 samples\n",
      "cluster 25 has 61 samples\n",
      "cluster 26 has 13 samples\n",
      "cluster 27 has 10 samples\n",
      "cluster 28 has 41 samples\n",
      "cluster 29 has 112 samples\n",
      "cluster 30 has 57 samples\n",
      "cluster 31 has 29 samples\n",
      "cluster 32 has 17 samples\n",
      "cluster 33 has 46 samples\n",
      "cluster 34 has 28 samples\n",
      "cluster 35 has 37 samples\n",
      "cluster 36 has 51 samples\n",
      "cluster 37 has 11 samples\n",
      "cluster 38 has 13 samples\n",
      "cluster 39 has 77 samples\n",
      "cluster 40 has 14 samples\n",
      "cluster 41 has 12 samples\n",
      "cluster 42 has 26 samples\n",
      "cluster 43 has 15 samples\n"
     ]
    },
    {
     "data": {
      "image/png": "[encoded data removed]",
      "text/plain": [
       "<Figure size 432x288 with 1 Axes>"
      ]
     },
     "metadata": {
      "needs_background": "light"
     },
     "output_type": "display_data"
    }
   ],
   "source": [
    "\n",
    "for l in label_uni:\n",
    "    plt.scatter(scaled_data[cluster.labels_ == l , 0] , scaled_data[cluster.labels_ == l , 1] , label = l)\n",
    "    print(\"cluster \" + str(l) + \" has \" + str(np.sum(cluster.labels_ == l)) + \" samples\")\n",
    "plt.legend()\n",
    "plt.show()"
   ]
  },
  {
   "cell_type": "code",
   "execution_count": 70,
   "id": "theoretical-sense",
   "metadata": {},
   "outputs": [
    {
     "data": {
      "text/plain": [
       "array([1, 1, 1, ..., 1, 1, 0])"
      ]
     },
     "execution_count": 70,
     "metadata": {},
     "output_type": "execute_result"
    }
   ],
   "source": [
    "### running AgglomerativeClustering\n",
    "from sklearn.cluster import AgglomerativeClustering\n",
    "k = 5   # ... default is 2\n",
    "cluster_agg = AgglomerativeClustering(n_clusters=k)\n",
    "cluster_agg.fit(scaled_data)\n",
    "cluster_agg.labels_"
   ]
  },
  {
   "cell_type": "code",
   "execution_count": 73,
   "id": "eastern-cleaners",
   "metadata": {},
   "outputs": [
    {
     "name": "stdout",
     "output_type": "stream",
     "text": [
      "cluster 0 has 10018 samples\n",
      "cluster 1 has 2565 samples\n",
      "cluster 2 has 5900 samples\n",
      "cluster 3 has 160 samples\n",
      "cluster 4 has 3509 samples\n"
     ]
    },
    {
     "data": {
      "image/png": "[encoded data removed]",
      "text/plain": [
       "<Figure size 432x288 with 1 Axes>"
      ]
     },
     "metadata": {
      "needs_background": "light"
     },
     "output_type": "display_data"
    }
   ],
   "source": [
    "label_uni = np.unique(cluster_agg.labels_)\n",
    "len(label_uni)\n",
    "for l in label_uni:\n",
    "    plt.scatter(scaled_data[cluster_agg.labels_ == l , 0] , scaled_data[cluster_agg.labels_ == l , 1] , label = l)\n",
    "    print(\"cluster \" + str(l) + \" has \" + str(np.sum(cluster.labels_ == l)) + \" samples\")\n",
    "plt.legend()\n",
    "plt.show()"
   ]
  },
  {
   "cell_type": "code",
   "execution_count": null,
   "id": "overhead-taste",
   "metadata": {},
   "outputs": [],
   "source": []
  }
 ],
 "metadata": {
  "kernelspec": {
   "display_name": "Python 3",
   "language": "python",
   "name": "python3"
  },
  "language_info": {
   "codemirror_mode": {
    "name": "ipython",
    "version": 3
   },
   "file_extension": ".py",
   "mimetype": "text/x-python",
   "name": "python",
   "nbconvert_exporter": "python",
   "pygments_lexer": "ipython3",
   "version": "3.9.2"
  }
 },
 "nbformat": 4,
 "nbformat_minor": 5
}

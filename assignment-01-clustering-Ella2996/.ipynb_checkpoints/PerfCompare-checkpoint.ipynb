{
 "cells": [
  {
   "cell_type": "code",
   "execution_count": 1,
   "id": "accessible-gambling",
   "metadata": {},
   "outputs": [
    {
     "data": {
      "text/html": [
       "<div>\n",
       "<style scoped>\n",
       "    .dataframe tbody tr th:only-of-type {\n",
       "        vertical-align: middle;\n",
       "    }\n",
       "\n",
       "    .dataframe tbody tr th {\n",
       "        vertical-align: top;\n",
       "    }\n",
       "\n",
       "    .dataframe thead th {\n",
       "        text-align: right;\n",
       "    }\n",
       "</style>\n",
       "<table border=\"1\" class=\"dataframe\">\n",
       "  <thead>\n",
       "    <tr style=\"text-align: right;\">\n",
       "      <th></th>\n",
       "      <th>air_pressure</th>\n",
       "      <th>air_temp</th>\n",
       "      <th>avg_wind_direction</th>\n",
       "      <th>avg_wind_speed</th>\n",
       "      <th>max_wind_direction</th>\n",
       "      <th>max_wind_speed</th>\n",
       "      <th>relative_humidity</th>\n",
       "    </tr>\n",
       "  </thead>\n",
       "  <tbody>\n",
       "    <tr>\n",
       "      <th>0</th>\n",
       "      <td>912.3</td>\n",
       "      <td>64.76</td>\n",
       "      <td>97.0</td>\n",
       "      <td>1.2</td>\n",
       "      <td>106.0</td>\n",
       "      <td>1.6</td>\n",
       "      <td>60.5</td>\n",
       "    </tr>\n",
       "    <tr>\n",
       "      <th>1</th>\n",
       "      <td>911.8</td>\n",
       "      <td>62.96</td>\n",
       "      <td>95.0</td>\n",
       "      <td>2.3</td>\n",
       "      <td>106.0</td>\n",
       "      <td>2.5</td>\n",
       "      <td>63.9</td>\n",
       "    </tr>\n",
       "    <tr>\n",
       "      <th>2</th>\n",
       "      <td>911.4</td>\n",
       "      <td>68.00</td>\n",
       "      <td>53.0</td>\n",
       "      <td>0.3</td>\n",
       "      <td>69.0</td>\n",
       "      <td>0.5</td>\n",
       "      <td>33.4</td>\n",
       "    </tr>\n",
       "    <tr>\n",
       "      <th>3</th>\n",
       "      <td>911.4</td>\n",
       "      <td>64.22</td>\n",
       "      <td>191.0</td>\n",
       "      <td>2.8</td>\n",
       "      <td>197.0</td>\n",
       "      <td>2.9</td>\n",
       "      <td>58.2</td>\n",
       "    </tr>\n",
       "    <tr>\n",
       "      <th>4</th>\n",
       "      <td>912.2</td>\n",
       "      <td>52.70</td>\n",
       "      <td>181.0</td>\n",
       "      <td>1.5</td>\n",
       "      <td>191.0</td>\n",
       "      <td>2.0</td>\n",
       "      <td>89.8</td>\n",
       "    </tr>\n",
       "    <tr>\n",
       "      <th>...</th>\n",
       "      <td>...</td>\n",
       "      <td>...</td>\n",
       "      <td>...</td>\n",
       "      <td>...</td>\n",
       "      <td>...</td>\n",
       "      <td>...</td>\n",
       "      <td>...</td>\n",
       "    </tr>\n",
       "    <tr>\n",
       "      <th>15868</th>\n",
       "      <td>914.3</td>\n",
       "      <td>77.18</td>\n",
       "      <td>225.0</td>\n",
       "      <td>5.2</td>\n",
       "      <td>238.0</td>\n",
       "      <td>6.0</td>\n",
       "      <td>43.2</td>\n",
       "    </tr>\n",
       "    <tr>\n",
       "      <th>15869</th>\n",
       "      <td>914.4</td>\n",
       "      <td>77.00</td>\n",
       "      <td>190.0</td>\n",
       "      <td>1.5</td>\n",
       "      <td>196.0</td>\n",
       "      <td>1.7</td>\n",
       "      <td>42.8</td>\n",
       "    </tr>\n",
       "    <tr>\n",
       "      <th>15870</th>\n",
       "      <td>914.9</td>\n",
       "      <td>75.92</td>\n",
       "      <td>344.0</td>\n",
       "      <td>0.4</td>\n",
       "      <td>352.0</td>\n",
       "      <td>0.6</td>\n",
       "      <td>43.9</td>\n",
       "    </tr>\n",
       "    <tr>\n",
       "      <th>15871</th>\n",
       "      <td>915.7</td>\n",
       "      <td>75.38</td>\n",
       "      <td>13.0</td>\n",
       "      <td>1.5</td>\n",
       "      <td>24.0</td>\n",
       "      <td>1.7</td>\n",
       "      <td>46.7</td>\n",
       "    </tr>\n",
       "    <tr>\n",
       "      <th>15872</th>\n",
       "      <td>915.9</td>\n",
       "      <td>75.74</td>\n",
       "      <td>335.0</td>\n",
       "      <td>0.9</td>\n",
       "      <td>348.0</td>\n",
       "      <td>1.1</td>\n",
       "      <td>47.8</td>\n",
       "    </tr>\n",
       "  </tbody>\n",
       "</table>\n",
       "<p>15870 rows × 7 columns</p>\n",
       "</div>"
      ],
      "text/plain": [
       "       air_pressure  air_temp  avg_wind_direction  avg_wind_speed  \\\n",
       "0             912.3     64.76                97.0             1.2   \n",
       "1             911.8     62.96                95.0             2.3   \n",
       "2             911.4     68.00                53.0             0.3   \n",
       "3             911.4     64.22               191.0             2.8   \n",
       "4             912.2     52.70               181.0             1.5   \n",
       "...             ...       ...                 ...             ...   \n",
       "15868         914.3     77.18               225.0             5.2   \n",
       "15869         914.4     77.00               190.0             1.5   \n",
       "15870         914.9     75.92               344.0             0.4   \n",
       "15871         915.7     75.38                13.0             1.5   \n",
       "15872         915.9     75.74               335.0             0.9   \n",
       "\n",
       "       max_wind_direction  max_wind_speed  relative_humidity  \n",
       "0                   106.0             1.6               60.5  \n",
       "1                   106.0             2.5               63.9  \n",
       "2                    69.0             0.5               33.4  \n",
       "3                   197.0             2.9               58.2  \n",
       "4                   191.0             2.0               89.8  \n",
       "...                   ...             ...                ...  \n",
       "15868               238.0             6.0               43.2  \n",
       "15869               196.0             1.7               42.8  \n",
       "15870               352.0             0.6               43.9  \n",
       "15871                24.0             1.7               46.7  \n",
       "15872               348.0             1.1               47.8  \n",
       "\n",
       "[15870 rows x 7 columns]"
      ]
     },
     "execution_count": 1,
     "metadata": {},
     "output_type": "execute_result"
    }
   ],
   "source": [
    "import pandas as pd\n",
    "import numpy as np\n",
    "## load the dataset, pick the selected features and remove the rows with NaN value\n",
    "df = pd.read_csv('historical-weather.csv')\n",
    "df = df.loc[:, ['air_pressure', 'air_temp', 'avg_wind_direction', 'avg_wind_speed', 'max_wind_direction', 'max_wind_speed', 'relative_humidity']]\n",
    "df.dropna(inplace=True)\n",
    "df"
   ]
  },
  {
   "cell_type": "code",
   "execution_count": 2,
   "id": "endless-incidence",
   "metadata": {},
   "outputs": [
    {
     "data": {
      "text/plain": [
       "array([[-1.48430824,  0.24526764, -0.67450862, ..., -0.61453318,\n",
       "        -0.74711905,  0.49291641],\n",
       "       [-1.64815855,  0.09316977, -0.69549274, ..., -0.61453318,\n",
       "        -0.37657025,  0.62274263],\n",
       "       [-1.77923879,  0.5190438 , -1.13615931, ..., -1.01554462,\n",
       "        -1.20001203, -0.54187493],\n",
       "       ...,\n",
       "       [-0.63228666,  1.18827442,  1.91703046, ...,  2.051651  ,\n",
       "        -1.15883994, -0.14094102],\n",
       "       [-0.37012617,  1.14264506, -1.55584175, ..., -1.50326124,\n",
       "        -0.70594696, -0.03402531],\n",
       "       [-0.30458605,  1.17306463,  1.82260191, ...,  2.00829841,\n",
       "        -0.9529795 ,  0.00797729]])"
      ]
     },
     "execution_count": 2,
     "metadata": {},
     "output_type": "execute_result"
    }
   ],
   "source": [
    "### preprocess the data to have mean 0 and std 1\n",
    "from sklearn.preprocessing import StandardScaler\n",
    "scaler = StandardScaler()\n",
    "scaler.fit(df)\n",
    "scaled_data = scaler.transform(df)\n",
    "scaled_data"
   ]
  },
  {
   "cell_type": "code",
   "execution_count": 3,
   "id": "favorite-apparatus",
   "metadata": {},
   "outputs": [
    {
     "data": {
      "text/plain": [
       "57836.13255773829"
      ]
     },
     "execution_count": 3,
     "metadata": {},
     "output_type": "execute_result"
    }
   ],
   "source": [
    "### KMeans from sklean\n",
    "from sklearn.cluster import KMeans\n",
    "n_clusters = 4\n",
    "kmeans = KMeans(n_clusters=n_clusters, random_state=0)\n",
    "labels = kmeans.fit_predict(scaled_data)\n",
    "kmeans.inertia_\n",
    "#kmeans.cluster_centers_"
   ]
  },
  {
   "cell_type": "code",
   "execution_count": 4,
   "id": "respective-serial",
   "metadata": {},
   "outputs": [
    {
     "data": {
      "text/plain": [
       "64981.544555243425"
      ]
     },
     "execution_count": 4,
     "metadata": {},
     "output_type": "execute_result"
    }
   ],
   "source": [
    "#### our own version of kmeans\n",
    "import kmeans as km\n",
    "kmeans_own = km.KMeans(k = n_clusters)\n",
    "assigned_clusters, clusters = kmeans_own.fit(scaled_data)\n",
    "kmeans_own.inertia(scaled_data)\n",
    "#clusters"
   ]
  },
  {
   "cell_type": "code",
   "execution_count": 139,
   "id": "arabic-testament",
   "metadata": {},
   "outputs": [
    {
     "data": {
      "text/plain": [
       "array([[-0.52739629, -0.60257414],\n",
       "       [ 0.03429649, -0.22136532],\n",
       "       [-1.64377321, -0.45971991],\n",
       "       ...,\n",
       "       [-0.17466788, -3.06947725],\n",
       "       [-1.86910247,  0.66199169],\n",
       "       [-0.03986812, -2.75025771]])"
      ]
     },
     "execution_count": 139,
     "metadata": {},
     "output_type": "execute_result"
    }
   ],
   "source": [
    "### apply PCA to reduce dimension for visualization purpose\n",
    "from sklearn.decomposition import PCA\n",
    "pca = PCA(2)\n",
    "scaled_data_pca = pca.fit_transform(scaled_data)\n",
    "scaled_data_pca"
   ]
  },
  {
   "cell_type": "code",
   "execution_count": 141,
   "id": "secondary-marina",
   "metadata": {},
   "outputs": [
    {
     "name": "stdout",
     "output_type": "stream",
     "text": [
      "cluster 0 has 4322 samples\n",
      "cluster 1 has 3803 samples\n",
      "cluster 2 has 5384 samples\n",
      "cluster 3 has 2361 samples\n"
     ]
    },
    {
     "data": {
      "image/png": "[encoded data removed]",
      "text/plain": [
       "<Figure size 432x288 with 1 Axes>"
      ]
     },
     "metadata": {
      "needs_background": "light"
     },
     "output_type": "display_data"
    }
   ],
   "source": [
    "### visualization of sklearn KMeans\n",
    "color = ['red', 'green', 'blue', 'yellow', 'black']\n",
    "for i in range(n_clusters):\n",
    "    plt.scatter(scaled_data_pca[labels == i , 0] , scaled_data_pca[labels == i , 1] , label = i)\n",
    "    print(\"cluster \" + str(i) + \" has \" + str(np.sum(labels == i)) + \" samples\")\n",
    "plt.legend()\n",
    "plt.show()"
   ]
  },
  {
   "cell_type": "code",
   "execution_count": 142,
   "id": "boolean-attitude",
   "metadata": {},
   "outputs": [
    {
     "name": "stdout",
     "output_type": "stream",
     "text": [
      "cluster 0 has 3801 samples\n",
      "cluster 1 has 2358 samples\n",
      "cluster 2 has 4326 samples\n",
      "cluster 3 has 5385 samples\n"
     ]
    },
    {
     "data": {
      "image/png": "[encoded data removed]",
      "text/plain": [
       "<Figure size 432x288 with 1 Axes>"
      ]
     },
     "metadata": {
      "needs_background": "light"
     },
     "output_type": "display_data"
    }
   ],
   "source": [
    "\n",
    "for i in range(n_clusters):\n",
    "    plt.scatter(scaled_data_pca[assigned_clusters == i , 0] , scaled_data_pca[assigned_clusters == i , 1] , label = i)\n",
    "    print(\"cluster \" + str(i) + \" has \" + str(np.sum(assigned_clusters == i)) + \" samples\")\n",
    "plt.legend()\n",
    "plt.show()"
   ]
  },
  {
   "cell_type": "markdown",
   "id": "elder-infrared",
   "metadata": {},
   "source": [
    "When number of clusters is 4, both kMeans methods look pretty similar in terms of clustering output. kMeans in Scikit-learn seems to be more stable in the sense that multiple runs give very similar results. While the own versioin kMeans is less stable. Sometimes it gives good results and sometims not good. This might be related to the local optimum due the initializatioin. If we reruns multiple times and pick the best model,it might become more stable .\n",
    "\n",
    "Based on the inertia, it shows kMeans in Scikit-learn does better (57836.13255773829) compared with own kMeans(64981.544555243425)"
   ]
  },
  {
   "cell_type": "code",
   "execution_count": 143,
   "id": "purple-reducing",
   "metadata": {},
   "outputs": [
    {
     "name": "stdout",
     "output_type": "stream",
     "text": [
      "cluster 0 has 1328 samples\n",
      "cluster 1 has 2046 samples\n",
      "cluster 2 has 2614 samples\n",
      "cluster 3 has 2471 samples\n",
      "cluster 4 has 662 samples\n",
      "cluster 5 has 1993 samples\n",
      "cluster 6 has 777 samples\n",
      "cluster 7 has 1281 samples\n",
      "cluster 8 has 1327 samples\n",
      "cluster 9 has 1371 samples\n"
     ]
    },
    {
     "data": {
      "image/png": "[encoded data removed]",
      "text/plain": [
       "<Figure size 432x288 with 1 Axes>"
      ]
     },
     "metadata": {
      "needs_background": "light"
     },
     "output_type": "display_data"
    }
   ],
   "source": [
    "##  cluster number is 10\n",
    "n_clusters = 10\n",
    "kmeans = KMeans(n_clusters=n_clusters, random_state=0)\n",
    "labels = kmeans.fit_predict(scaled_data)\n",
    "for i in range(n_clusters):\n",
    "    plt.scatter(scaled_data_pca[labels == i , 0] , scaled_data_pca[labels == i , 1] , label = i)\n",
    "    print(\"cluster \" + str(i) + \" has \" + str(np.sum(labels == i)) + \" samples\")\n",
    "plt.legend()\n",
    "plt.show()"
   ]
  },
  {
   "cell_type": "code",
   "execution_count": 144,
   "id": "proprietary-indication",
   "metadata": {},
   "outputs": [
    {
     "name": "stdout",
     "output_type": "stream",
     "text": [
      "cluster 0 has 656 samples\n",
      "cluster 1 has 1436 samples\n",
      "cluster 2 has 1680 samples\n",
      "cluster 3 has 1209 samples\n",
      "cluster 4 has 2745 samples\n",
      "cluster 5 has 1018 samples\n",
      "cluster 6 has 1374 samples\n",
      "cluster 7 has 2033 samples\n",
      "cluster 8 has 1281 samples\n",
      "cluster 9 has 2438 samples\n"
     ]
    },
    {
     "data": {
      "image/png": "[encoded data removed]",
      "text/plain": [
       "<Figure size 432x288 with 1 Axes>"
      ]
     },
     "metadata": {
      "needs_background": "light"
     },
     "output_type": "display_data"
    }
   ],
   "source": [
    "kmeans_own = km.KMeans(k = n_clusters)\n",
    "assigned_clusters, clusters = kmeans_own.fit(scaled_data)\n",
    "for i in range(n_clusters):\n",
    "    plt.scatter(scaled_data_pca[assigned_clusters == i , 0] , scaled_data_pca[assigned_clusters == i , 1] , label = i)\n",
    "    print(\"cluster \" + str(i) + \" has \" + str(np.sum(assigned_clusters == i)) + \" samples\")\n",
    "plt.legend()\n",
    "plt.show()"
   ]
  },
  {
   "cell_type": "markdown",
   "id": "marked-steering",
   "metadata": {},
   "source": [
    "Both seem to have similar output when number of clusters increase"
   ]
  },
  {
   "cell_type": "code",
   "execution_count": null,
   "id": "based-default",
   "metadata": {},
   "outputs": [],
   "source": []
  }
 ],
 "metadata": {
  "kernelspec": {
   "display_name": "Python 3",
   "language": "python",
   "name": "python3"
  },
  "language_info": {
   "codemirror_mode": {
    "name": "ipython",
    "version": 3
   },
   "file_extension": ".py",
   "mimetype": "text/x-python",
   "name": "python",
   "nbconvert_exporter": "python",
   "pygments_lexer": "ipython3",
   "version": "3.9.2"
  }
 },
 "nbformat": 4,
 "nbformat_minor": 5
}

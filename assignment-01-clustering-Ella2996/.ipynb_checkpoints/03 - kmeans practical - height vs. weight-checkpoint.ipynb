{
 "cells": [
  {
   "cell_type": "markdown",
   "id": "twenty-report",
   "metadata": {},
   "source": [
    "# Machine Learning - KMeans practical \n",
    "## This determines size groups for people in a height-weight population using KMeans."
   ]
  },
  {
   "cell_type": "code",
   "execution_count": 1,
   "id": "efficient-problem",
   "metadata": {
    "scrolled": true
   },
   "outputs": [
    {
     "data": {
      "text/html": [
       "<div>\n",
       "<style scoped>\n",
       "    .dataframe tbody tr th:only-of-type {\n",
       "        vertical-align: middle;\n",
       "    }\n",
       "\n",
       "    .dataframe tbody tr th {\n",
       "        vertical-align: top;\n",
       "    }\n",
       "\n",
       "    .dataframe thead th {\n",
       "        text-align: right;\n",
       "    }\n",
       "</style>\n",
       "<table border=\"1\" class=\"dataframe\">\n",
       "  <thead>\n",
       "    <tr style=\"text-align: right;\">\n",
       "      <th></th>\n",
       "      <th>Gender</th>\n",
       "      <th>Height</th>\n",
       "      <th>Weight</th>\n",
       "    </tr>\n",
       "  </thead>\n",
       "  <tbody>\n",
       "    <tr>\n",
       "      <th>0</th>\n",
       "      <td>Male</td>\n",
       "      <td>73.847017</td>\n",
       "      <td>241.893563</td>\n",
       "    </tr>\n",
       "    <tr>\n",
       "      <th>1</th>\n",
       "      <td>Male</td>\n",
       "      <td>68.781904</td>\n",
       "      <td>162.310473</td>\n",
       "    </tr>\n",
       "    <tr>\n",
       "      <th>2</th>\n",
       "      <td>Male</td>\n",
       "      <td>74.110105</td>\n",
       "      <td>212.740856</td>\n",
       "    </tr>\n",
       "    <tr>\n",
       "      <th>3</th>\n",
       "      <td>Male</td>\n",
       "      <td>71.730978</td>\n",
       "      <td>220.042470</td>\n",
       "    </tr>\n",
       "    <tr>\n",
       "      <th>4</th>\n",
       "      <td>Male</td>\n",
       "      <td>69.881796</td>\n",
       "      <td>206.349801</td>\n",
       "    </tr>\n",
       "    <tr>\n",
       "      <th>...</th>\n",
       "      <td>...</td>\n",
       "      <td>...</td>\n",
       "      <td>...</td>\n",
       "    </tr>\n",
       "    <tr>\n",
       "      <th>9995</th>\n",
       "      <td>Female</td>\n",
       "      <td>66.172652</td>\n",
       "      <td>136.777454</td>\n",
       "    </tr>\n",
       "    <tr>\n",
       "      <th>9996</th>\n",
       "      <td>Female</td>\n",
       "      <td>67.067155</td>\n",
       "      <td>170.867906</td>\n",
       "    </tr>\n",
       "    <tr>\n",
       "      <th>9997</th>\n",
       "      <td>Female</td>\n",
       "      <td>63.867992</td>\n",
       "      <td>128.475319</td>\n",
       "    </tr>\n",
       "    <tr>\n",
       "      <th>9998</th>\n",
       "      <td>Female</td>\n",
       "      <td>69.034243</td>\n",
       "      <td>163.852461</td>\n",
       "    </tr>\n",
       "    <tr>\n",
       "      <th>9999</th>\n",
       "      <td>Female</td>\n",
       "      <td>61.944246</td>\n",
       "      <td>113.649103</td>\n",
       "    </tr>\n",
       "  </tbody>\n",
       "</table>\n",
       "<p>10000 rows × 3 columns</p>\n",
       "</div>"
      ],
      "text/plain": [
       "      Gender     Height      Weight\n",
       "0       Male  73.847017  241.893563\n",
       "1       Male  68.781904  162.310473\n",
       "2       Male  74.110105  212.740856\n",
       "3       Male  71.730978  220.042470\n",
       "4       Male  69.881796  206.349801\n",
       "...      ...        ...         ...\n",
       "9995  Female  66.172652  136.777454\n",
       "9996  Female  67.067155  170.867906\n",
       "9997  Female  63.867992  128.475319\n",
       "9998  Female  69.034243  163.852461\n",
       "9999  Female  61.944246  113.649103\n",
       "\n",
       "[10000 rows x 3 columns]"
      ]
     },
     "execution_count": 1,
     "metadata": {},
     "output_type": "execute_result"
    }
   ],
   "source": [
    "# Using height / weight from https://www.kaggle.com/mustafaali96/weight-height\n",
    "# What does our data look like - table?\n",
    "import pandas as pd\n",
    "\n",
    "df = pd.read_csv('weight-height.csv')\n",
    "df"
   ]
  },
  {
   "cell_type": "markdown",
   "id": "decimal-attention",
   "metadata": {},
   "source": [
    "## This portion is practice for python (pandas) and data vis."
   ]
  },
  {
   "cell_type": "code",
   "execution_count": 2,
   "id": "homeless-platinum",
   "metadata": {},
   "outputs": [
    {
     "data": {
      "image/png": "[encoded data removed]",
      "text/plain": [
       "<Figure size 432x288 with 1 Axes>"
      ]
     },
     "metadata": {
      "needs_background": "light"
     },
     "output_type": "display_data"
    }
   ],
   "source": [
    "# Let's look at the data on a scatterplot\n",
    "import matplotlib.pyplot as plt\n",
    "\n",
    "plt.scatter(df['Weight'], df['Height'])\n",
    "plt.show()"
   ]
  },
  {
   "cell_type": "code",
   "execution_count": 3,
   "id": "interesting-giving",
   "metadata": {
    "scrolled": true
   },
   "outputs": [
    {
     "data": {
      "text/html": [
       "<div>\n",
       "<style scoped>\n",
       "    .dataframe tbody tr th:only-of-type {\n",
       "        vertical-align: middle;\n",
       "    }\n",
       "\n",
       "    .dataframe tbody tr th {\n",
       "        vertical-align: top;\n",
       "    }\n",
       "\n",
       "    .dataframe thead th {\n",
       "        text-align: right;\n",
       "    }\n",
       "</style>\n",
       "<table border=\"1\" class=\"dataframe\">\n",
       "  <thead>\n",
       "    <tr style=\"text-align: right;\">\n",
       "      <th></th>\n",
       "      <th>Gender</th>\n",
       "      <th>Height</th>\n",
       "      <th>Weight</th>\n",
       "    </tr>\n",
       "  </thead>\n",
       "  <tbody>\n",
       "    <tr>\n",
       "      <th>0</th>\n",
       "      <td>Male</td>\n",
       "      <td>73.847017</td>\n",
       "      <td>241.893563</td>\n",
       "    </tr>\n",
       "    <tr>\n",
       "      <th>1</th>\n",
       "      <td>Male</td>\n",
       "      <td>68.781904</td>\n",
       "      <td>162.310473</td>\n",
       "    </tr>\n",
       "    <tr>\n",
       "      <th>2</th>\n",
       "      <td>Male</td>\n",
       "      <td>74.110105</td>\n",
       "      <td>212.740856</td>\n",
       "    </tr>\n",
       "    <tr>\n",
       "      <th>3</th>\n",
       "      <td>Male</td>\n",
       "      <td>71.730978</td>\n",
       "      <td>220.042470</td>\n",
       "    </tr>\n",
       "    <tr>\n",
       "      <th>4</th>\n",
       "      <td>Male</td>\n",
       "      <td>69.881796</td>\n",
       "      <td>206.349801</td>\n",
       "    </tr>\n",
       "    <tr>\n",
       "      <th>...</th>\n",
       "      <td>...</td>\n",
       "      <td>...</td>\n",
       "      <td>...</td>\n",
       "    </tr>\n",
       "    <tr>\n",
       "      <th>4995</th>\n",
       "      <td>Male</td>\n",
       "      <td>68.860062</td>\n",
       "      <td>177.131052</td>\n",
       "    </tr>\n",
       "    <tr>\n",
       "      <th>4996</th>\n",
       "      <td>Male</td>\n",
       "      <td>68.973423</td>\n",
       "      <td>159.285228</td>\n",
       "    </tr>\n",
       "    <tr>\n",
       "      <th>4997</th>\n",
       "      <td>Male</td>\n",
       "      <td>67.013795</td>\n",
       "      <td>199.195400</td>\n",
       "    </tr>\n",
       "    <tr>\n",
       "      <th>4998</th>\n",
       "      <td>Male</td>\n",
       "      <td>71.557718</td>\n",
       "      <td>185.905909</td>\n",
       "    </tr>\n",
       "    <tr>\n",
       "      <th>4999</th>\n",
       "      <td>Male</td>\n",
       "      <td>70.351880</td>\n",
       "      <td>198.903012</td>\n",
       "    </tr>\n",
       "  </tbody>\n",
       "</table>\n",
       "<p>5000 rows × 3 columns</p>\n",
       "</div>"
      ],
      "text/plain": [
       "     Gender     Height      Weight\n",
       "0      Male  73.847017  241.893563\n",
       "1      Male  68.781904  162.310473\n",
       "2      Male  74.110105  212.740856\n",
       "3      Male  71.730978  220.042470\n",
       "4      Male  69.881796  206.349801\n",
       "...     ...        ...         ...\n",
       "4995   Male  68.860062  177.131052\n",
       "4996   Male  68.973423  159.285228\n",
       "4997   Male  67.013795  199.195400\n",
       "4998   Male  71.557718  185.905909\n",
       "4999   Male  70.351880  198.903012\n",
       "\n",
       "[5000 rows x 3 columns]"
      ]
     },
     "execution_count": 3,
     "metadata": {},
     "output_type": "execute_result"
    }
   ],
   "source": [
    "# If we want just males, we can get that data by filtering the data on the Gender column.\n",
    "males = df['Gender']=='Male'\n",
    "male_df = df[males]\n",
    "male_df"
   ]
  },
  {
   "cell_type": "code",
   "execution_count": 4,
   "id": "associate-prospect",
   "metadata": {
    "scrolled": false
   },
   "outputs": [
    {
     "data": {
      "text/html": [
       "<div>\n",
       "<style scoped>\n",
       "    .dataframe tbody tr th:only-of-type {\n",
       "        vertical-align: middle;\n",
       "    }\n",
       "\n",
       "    .dataframe tbody tr th {\n",
       "        vertical-align: top;\n",
       "    }\n",
       "\n",
       "    .dataframe thead th {\n",
       "        text-align: right;\n",
       "    }\n",
       "</style>\n",
       "<table border=\"1\" class=\"dataframe\">\n",
       "  <thead>\n",
       "    <tr style=\"text-align: right;\">\n",
       "      <th></th>\n",
       "      <th>Gender</th>\n",
       "      <th>Height</th>\n",
       "      <th>Weight</th>\n",
       "    </tr>\n",
       "  </thead>\n",
       "  <tbody>\n",
       "    <tr>\n",
       "      <th>5000</th>\n",
       "      <td>Female</td>\n",
       "      <td>58.910732</td>\n",
       "      <td>102.088326</td>\n",
       "    </tr>\n",
       "    <tr>\n",
       "      <th>5001</th>\n",
       "      <td>Female</td>\n",
       "      <td>65.230013</td>\n",
       "      <td>141.305823</td>\n",
       "    </tr>\n",
       "    <tr>\n",
       "      <th>5002</th>\n",
       "      <td>Female</td>\n",
       "      <td>63.369004</td>\n",
       "      <td>131.041403</td>\n",
       "    </tr>\n",
       "    <tr>\n",
       "      <th>5003</th>\n",
       "      <td>Female</td>\n",
       "      <td>64.479997</td>\n",
       "      <td>128.171511</td>\n",
       "    </tr>\n",
       "    <tr>\n",
       "      <th>5004</th>\n",
       "      <td>Female</td>\n",
       "      <td>61.793096</td>\n",
       "      <td>129.781407</td>\n",
       "    </tr>\n",
       "    <tr>\n",
       "      <th>...</th>\n",
       "      <td>...</td>\n",
       "      <td>...</td>\n",
       "      <td>...</td>\n",
       "    </tr>\n",
       "    <tr>\n",
       "      <th>9995</th>\n",
       "      <td>Female</td>\n",
       "      <td>66.172652</td>\n",
       "      <td>136.777454</td>\n",
       "    </tr>\n",
       "    <tr>\n",
       "      <th>9996</th>\n",
       "      <td>Female</td>\n",
       "      <td>67.067155</td>\n",
       "      <td>170.867906</td>\n",
       "    </tr>\n",
       "    <tr>\n",
       "      <th>9997</th>\n",
       "      <td>Female</td>\n",
       "      <td>63.867992</td>\n",
       "      <td>128.475319</td>\n",
       "    </tr>\n",
       "    <tr>\n",
       "      <th>9998</th>\n",
       "      <td>Female</td>\n",
       "      <td>69.034243</td>\n",
       "      <td>163.852461</td>\n",
       "    </tr>\n",
       "    <tr>\n",
       "      <th>9999</th>\n",
       "      <td>Female</td>\n",
       "      <td>61.944246</td>\n",
       "      <td>113.649103</td>\n",
       "    </tr>\n",
       "  </tbody>\n",
       "</table>\n",
       "<p>5000 rows × 3 columns</p>\n",
       "</div>"
      ],
      "text/plain": [
       "      Gender     Height      Weight\n",
       "5000  Female  58.910732  102.088326\n",
       "5001  Female  65.230013  141.305823\n",
       "5002  Female  63.369004  131.041403\n",
       "5003  Female  64.479997  128.171511\n",
       "5004  Female  61.793096  129.781407\n",
       "...      ...        ...         ...\n",
       "9995  Female  66.172652  136.777454\n",
       "9996  Female  67.067155  170.867906\n",
       "9997  Female  63.867992  128.475319\n",
       "9998  Female  69.034243  163.852461\n",
       "9999  Female  61.944246  113.649103\n",
       "\n",
       "[5000 rows x 3 columns]"
      ]
     },
     "execution_count": 4,
     "metadata": {},
     "output_type": "execute_result"
    }
   ],
   "source": [
    "# Likewise for females\n",
    "females = df['Gender']=='Female'\n",
    "female_df = df[females]\n",
    "female_df"
   ]
  },
  {
   "cell_type": "code",
   "execution_count": 5,
   "id": "cordless-scheduling",
   "metadata": {
    "scrolled": false
   },
   "outputs": [
    {
     "data": {
      "image/png": "[encoded data removed]",
      "text/plain": [
       "<Figure size 432x288 with 1 Axes>"
      ]
     },
     "metadata": {
      "needs_background": "light"
     },
     "output_type": "display_data"
    }
   ],
   "source": [
    "# Let's see one gender as a scatterplot -- what do we see?\n",
    "\n",
    "plt.scatter(male_df['Weight'], male_df['Height'])\n",
    "plt.show()"
   ]
  },
  {
   "cell_type": "code",
   "execution_count": 6,
   "id": "responsible-atlanta",
   "metadata": {},
   "outputs": [
    {
     "data": {
      "image/png": "[encoded data removed]",
      "text/plain": [
       "<Figure size 432x288 with 1 Axes>"
      ]
     },
     "metadata": {
      "needs_background": "light"
     },
     "output_type": "display_data"
    }
   ],
   "source": [
    "# The other gender as scatterplot...\n",
    "\n",
    "plt.scatter(female_df['Weight'], female_df['Height'])\n",
    "plt.show()"
   ]
  },
  {
   "cell_type": "code",
   "execution_count": 7,
   "id": "aware-cloud",
   "metadata": {},
   "outputs": [
    {
     "data": {
      "image/png": "[encoded data removed]",
      "text/plain": [
       "<Figure size 432x288 with 1 Axes>"
      ]
     },
     "metadata": {
      "needs_background": "light"
     },
     "output_type": "display_data"
    }
   ],
   "source": [
    "# The scatterplots don't have the same axes. Let's try them both again, using {xy]}lim...\n",
    "\n",
    "plt.scatter(female_df['Weight'], female_df['Height'])\n",
    "plt.ylim(50, 80)\n",
    "plt.xlim(60, 300)\n",
    "plt.show()"
   ]
  },
  {
   "cell_type": "code",
   "execution_count": 8,
   "id": "listed-flexibility",
   "metadata": {},
   "outputs": [
    {
     "data": {
      "image/png": "[encoded data removed]",
      "text/plain": [
       "<Figure size 432x288 with 1 Axes>"
      ]
     },
     "metadata": {
      "needs_background": "light"
     },
     "output_type": "display_data"
    }
   ],
   "source": [
    "# ... and the other\n",
    "\n",
    "plt.scatter(male_df['Weight'], male_df['Height'])\n",
    "plt.ylim(50, 80)\n",
    "plt.xlim(60, 300)\n",
    "plt.show()"
   ]
  },
  {
   "cell_type": "code",
   "execution_count": 9,
   "id": "skilled-irrigation",
   "metadata": {
    "scrolled": false
   },
   "outputs": [
    {
     "data": {
      "image/png": "[encoded data removed]",
      "text/plain": [
       "<Figure size 432x288 with 2 Axes>"
      ]
     },
     "metadata": {
      "needs_background": "light"
     },
     "output_type": "display_data"
    }
   ],
   "source": [
    "# Actually, we can use subplots for this:\n",
    "\n",
    "plt.subplot(1, 2, 1)\n",
    "plt.scatter(female_df['Weight'], female_df['Height'])\n",
    "plt.ylim(50,80)\n",
    "plt.xlim(60,300)\n",
    "plt.subplot(1, 2, 2)\n",
    "plt.scatter(male_df['Weight'], male_df['Height'])\n",
    "plt.ylim(50,80)\n",
    "plt.xlim(60,300)\n",
    "\n",
    "plt.show()"
   ]
  },
  {
   "cell_type": "code",
   "execution_count": 10,
   "id": "front-scottish",
   "metadata": {},
   "outputs": [
    {
     "data": {
      "image/png": "[encoded data removed]",
      "text/plain": [
       "<Figure size 432x288 with 1 Axes>"
      ]
     },
     "metadata": {
      "needs_background": "light"
     },
     "output_type": "display_data"
    }
   ],
   "source": [
    "# ... or better yet, we can plot both genders on the same chart\n",
    "colour_dict = {'Female': 'red', 'Male': 'blue'}\n",
    "\n",
    "for gender in df.Gender.unique():\n",
    "    g_df = df[df['Gender']== gender]\n",
    "    plt.scatter(g_df['Weight'], g_df['Height'], c = colour_dict[gender], label = gender)\n",
    "plt.legend()\n",
    "plt.show()"
   ]
  },
  {
   "cell_type": "code",
   "execution_count": 11,
   "id": "italian-respect",
   "metadata": {},
   "outputs": [
    {
     "data": {
      "image/png": "[encoded data removed]",
      "text/plain": [
       "<Figure size 432x288 with 1 Axes>"
      ]
     },
     "metadata": {
      "needs_background": "light"
     },
     "output_type": "display_data"
    }
   ],
   "source": [
    "# One gender always covers up the other. Try again, playing with params in matplot lib to see things better?\n",
    "colour_dict = {'Female': 'red', 'Male': 'blue'}\n",
    "\n",
    "for gender in df.Gender.unique():\n",
    "    gendered_df = df[df['Gender'] == gender]\n",
    "    plt.scatter(gendered_df['Weight'], gendered_df['Height'], c = colour_dict[gender],\n",
    "                label=gender, alpha=0.25, s=1)\n",
    "plt.legend()\n",
    "plt.xlabel('Weight')\n",
    "plt.ylabel('Height')\n",
    "plt.show()"
   ]
  },
  {
   "cell_type": "markdown",
   "id": "rotary-ribbon",
   "metadata": {},
   "source": [
    "## Onto the reason why we're here: KMeans\n",
    "### The essential question: What is \"Small\", \"Medium\", \"Large\", \"Extra Large\"?"
   ]
  },
  {
   "cell_type": "code",
   "execution_count": 12,
   "id": "recreational-chain",
   "metadata": {
    "scrolled": true
   },
   "outputs": [
    {
     "data": {
      "text/plain": [
       "array([2, 1, 2, ..., 0, 1, 0], dtype=int32)"
      ]
     },
     "execution_count": 12,
     "metadata": {},
     "output_type": "execute_result"
    }
   ],
   "source": [
    "# Import KMeans, create 4 clusters, fix the random state to get stable results... apply to (all) height & weight\n",
    "from sklearn.cluster import KMeans\n",
    "\n",
    "kmeans = KMeans(n_clusters=4, random_state=0).fit(df.iloc[:,1:])\n",
    "kmeans.labels_"
   ]
  },
  {
   "cell_type": "code",
   "execution_count": 13,
   "id": "basic-spain",
   "metadata": {
    "scrolled": true
   },
   "outputs": [
    {
     "data": {
      "text/plain": [
       "array([[ 61.58840705, 118.26755099],\n",
       "       [ 67.91546569, 176.65857794],\n",
       "       [ 71.30226545, 205.34136246],\n",
       "       [ 64.75409244, 146.13624649]])"
      ]
     },
     "execution_count": 13,
     "metadata": {},
     "output_type": "execute_result"
    }
   ],
   "source": [
    "kmeans.cluster_centers_\n",
    "# We can use these as S, M, L, XL"
   ]
  },
  {
   "cell_type": "code",
   "execution_count": 14,
   "id": "sporting-cartoon",
   "metadata": {},
   "outputs": [
    {
     "data": {
      "text/plain": [
       "array([[ 1.94406149,  2.50579697],\n",
       "       [ 0.62753668,  0.02710064],\n",
       "       [ 2.01244346,  1.59780623],\n",
       "       ...,\n",
       "       [-0.64968792, -1.02672965],\n",
       "       [ 0.69312469,  0.07512745],\n",
       "       [-1.14970831, -1.48850724]])"
      ]
     },
     "execution_count": 14,
     "metadata": {},
     "output_type": "execute_result"
    }
   ],
   "source": [
    "# KMeans is sensitive to units. If everything in the data were inches (xor lbs), this would be fine\n",
    "# ... but since we mix units, it's better to use StandardScaler to project each column into z-space.\n",
    "# This is REALLY COMMON with KMeans. This may give us different hypotheses (outcomes).\n",
    "from sklearn.preprocessing import StandardScaler\n",
    "\n",
    "scaler = StandardScaler()\n",
    "scaler.fit(df.iloc[:,1:])\n",
    "scaled_height_weight = scaler.transform(df.iloc[:,1:])\n",
    "scaled_height_weight"
   ]
  },
  {
   "cell_type": "code",
   "execution_count": 15,
   "id": "broadband-report",
   "metadata": {},
   "outputs": [
    {
     "data": {
      "text/plain": [
       "array([[ 1.3981734 ,  1.36387579],\n",
       "       [-1.34516555, -1.32726406],\n",
       "       [ 0.42594235,  0.50355882],\n",
       "       [-0.41911093, -0.48529123]])"
      ]
     },
     "execution_count": 15,
     "metadata": {},
     "output_type": "execute_result"
    }
   ],
   "source": [
    "kmeans = KMeans(n_clusters=4, random_state=0).fit(scaled_height_weight)\n",
    "kmeans.cluster_centers_\n",
    "# This gives us the S, M, L, XL on a standard norm scale."
   ]
  },
  {
   "cell_type": "code",
   "execution_count": 16,
   "id": "falling-worcester",
   "metadata": {},
   "outputs": [
    {
     "data": {
      "text/plain": [
       "array([[ 71.74680224, 205.2300899 ],\n",
       "       [ 61.19225626, 118.82611067],\n",
       "       [ 68.00630299, 177.60803589],\n",
       "       [ 64.7550993 , 145.85919199]])"
      ]
     },
     "execution_count": 16,
     "metadata": {},
     "output_type": "execute_result"
    }
   ],
   "source": [
    "# That's hard to read. Let's get it back to inches & lbs.\n",
    "scaler.inverse_transform(kmeans.cluster_centers_)"
   ]
  },
  {
   "cell_type": "markdown",
   "id": "planned-craps",
   "metadata": {},
   "source": [
    "### We skipped a fundamental question: is 4 even the right number of sizes?"
   ]
  },
  {
   "cell_type": "code",
   "execution_count": 17,
   "id": "regional-reset",
   "metadata": {},
   "outputs": [],
   "source": [
    "# Let's look at the inertia from 2 - 20, plot it and find the right number using the elbow method.\n",
    "kmeans_inertia = pd.DataFrame(data=[], index=range(2, 21), columns=['inertia'])\n",
    "\n",
    "for n_clusters in range(2, 21):\n",
    "    kmeans = KMeans(n_clusters=n_clusters)\n",
    "    cutoff = 99\n",
    "    kmeans.fit(scaled_height_weight)\n",
    "    kmeans_inertia.loc[n_clusters] = kmeans.inertia_"
   ]
  },
  {
   "cell_type": "code",
   "execution_count": 18,
   "id": "adopted-adoption",
   "metadata": {},
   "outputs": [
    {
     "data": {
      "image/png": "[encoded data removed]",
      "text/plain": [
       "<Figure size 432x288 with 1 Axes>"
      ]
     },
     "metadata": {
      "needs_background": "light"
     },
     "output_type": "display_data"
    }
   ],
   "source": [
    "# P.S. We can plot directly from pandas\n",
    "ax = plt.gca()\n",
    "\n",
    "kmeans_inertia.plot(kind='line', y='inertia', ax=ax)\n",
    "plt.show()"
   ]
  },
  {
   "cell_type": "markdown",
   "id": "suitable-harvard",
   "metadata": {},
   "source": [
    "# Conclusions:\n",
    "\n",
    "There are 4, maybe 5 distinct sizes in our population. If we use four sizes, they would be approx:\n",
    "* S = 5'1\", 119 lbs\n",
    "* M = 5'5\", 145 lbs\n",
    "* L = 5'8\", 178 lbs\n",
    "* XL = 5'11\", 205 lbs"
   ]
  }
 ],
 "metadata": {
  "kernelspec": {
   "display_name": "Python 3",
   "language": "python",
   "name": "python3"
  },
  "language_info": {
   "codemirror_mode": {
    "name": "ipython",
    "version": 3
   },
   "file_extension": ".py",
   "mimetype": "text/x-python",
   "name": "python",
   "nbconvert_exporter": "python",
   "pygments_lexer": "ipython3",
   "version": "3.9.2"
  }
 },
 "nbformat": 4,
 "nbformat_minor": 5
}

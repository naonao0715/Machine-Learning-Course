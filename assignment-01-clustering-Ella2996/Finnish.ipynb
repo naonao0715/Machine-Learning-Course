{
 "cells": [
  {
   "cell_type": "code",
   "execution_count": 3,
   "id": "sealed-request",
   "metadata": {},
   "outputs": [
    {
     "data": {
      "text/html": [
       "<div>\n",
       "<style scoped>\n",
       "    .dataframe tbody tr th:only-of-type {\n",
       "        vertical-align: middle;\n",
       "    }\n",
       "\n",
       "    .dataframe tbody tr th {\n",
       "        vertical-align: top;\n",
       "    }\n",
       "\n",
       "    .dataframe thead th {\n",
       "        text-align: right;\n",
       "    }\n",
       "</style>\n",
       "<table border=\"1\" class=\"dataframe\">\n",
       "  <thead>\n",
       "    <tr style=\"text-align: right;\">\n",
       "      <th></th>\n",
       "      <th>0</th>\n",
       "      <th>1</th>\n",
       "    </tr>\n",
       "  </thead>\n",
       "  <tbody>\n",
       "    <tr>\n",
       "      <th>0</th>\n",
       "      <td>625983</td>\n",
       "      <td>297439</td>\n",
       "    </tr>\n",
       "    <tr>\n",
       "      <th>1</th>\n",
       "      <td>626146</td>\n",
       "      <td>297440</td>\n",
       "    </tr>\n",
       "    <tr>\n",
       "      <th>2</th>\n",
       "      <td>626144</td>\n",
       "      <td>297456</td>\n",
       "    </tr>\n",
       "    <tr>\n",
       "      <th>3</th>\n",
       "      <td>626004</td>\n",
       "      <td>297394</td>\n",
       "    </tr>\n",
       "    <tr>\n",
       "      <th>4</th>\n",
       "      <td>626018</td>\n",
       "      <td>297437</td>\n",
       "    </tr>\n",
       "    <tr>\n",
       "      <th>...</th>\n",
       "      <td>...</td>\n",
       "      <td>...</td>\n",
       "    </tr>\n",
       "    <tr>\n",
       "      <th>13462</th>\n",
       "      <td>626042</td>\n",
       "      <td>297444</td>\n",
       "    </tr>\n",
       "    <tr>\n",
       "      <th>13463</th>\n",
       "      <td>625977</td>\n",
       "      <td>297443</td>\n",
       "    </tr>\n",
       "    <tr>\n",
       "      <th>13464</th>\n",
       "      <td>626050</td>\n",
       "      <td>297404</td>\n",
       "    </tr>\n",
       "    <tr>\n",
       "      <th>13465</th>\n",
       "      <td>625995</td>\n",
       "      <td>297426</td>\n",
       "    </tr>\n",
       "    <tr>\n",
       "      <th>13466</th>\n",
       "      <td>625982</td>\n",
       "      <td>297431</td>\n",
       "    </tr>\n",
       "  </tbody>\n",
       "</table>\n",
       "<p>13467 rows × 2 columns</p>\n",
       "</div>"
      ],
      "text/plain": [
       "            0       1\n",
       "0      625983  297439\n",
       "1      626146  297440\n",
       "2      626144  297456\n",
       "3      626004  297394\n",
       "4      626018  297437\n",
       "...       ...     ...\n",
       "13462  626042  297444\n",
       "13463  625977  297443\n",
       "13464  626050  297404\n",
       "13465  625995  297426\n",
       "13466  625982  297431\n",
       "\n",
       "[13467 rows x 2 columns]"
      ]
     },
     "execution_count": 3,
     "metadata": {},
     "output_type": "execute_result"
    }
   ],
   "source": [
    "import pandas as pd\n",
    "## load the dataset\n",
    "df = pd.read_csv('MopsiLocationsUntil2012-Finland.txt', delimiter='\\t', header=None)\n",
    "df"
   ]
  },
  {
   "cell_type": "markdown",
   "id": "everyday-friendship",
   "metadata": {},
   "source": [
    "###  I pick KMeans as the clustering algorithms. By looking at distributions of the data,  it seems it contains several clusters (which look like “spheroids” ) which can be easily clustered using Kmeans with number of clusters around 4-5.  "
   ]
  },
  {
   "cell_type": "code",
   "execution_count": 4,
   "id": "compliant-minute",
   "metadata": {},
   "outputs": [
    {
     "data": {
      "image/png": "[encoded data removed]",
      "text/plain": [
       "<Figure size 432x288 with 1 Axes>"
      ]
     },
     "metadata": {
      "needs_background": "light"
     },
     "output_type": "display_data"
    }
   ],
   "source": [
    "import matplotlib.pyplot as plt\n",
    "plt.scatter(df[0], df[1])\n",
    "plt.show()"
   ]
  },
  {
   "cell_type": "markdown",
   "id": "clean-joining",
   "metadata": {},
   "source": [
    "### 2. preprocessing of data to have zero mean and unit standard variance, hyperparametters include number of clusters, tolerance for convergence, number of initializations and number of iterations"
   ]
  },
  {
   "cell_type": "code",
   "execution_count": 5,
   "id": "retired-reset",
   "metadata": {},
   "outputs": [
    {
     "data": {
      "text/plain": [
       "array([[0.11323554, 0.41347453],\n",
       "       [0.13401564, 0.41352356],\n",
       "       [0.13376067, 0.41430792],\n",
       "       ...,\n",
       "       [0.12177705, 0.41175874],\n",
       "       [0.11476536, 0.41283724],\n",
       "       [0.11310805, 0.41308235]])"
      ]
     },
     "execution_count": 5,
     "metadata": {},
     "output_type": "execute_result"
    }
   ],
   "source": [
    "from sklearn.preprocessing import StandardScaler\n",
    "scaler = StandardScaler()\n",
    "scaler.fit(df)\n",
    "scaled_data = scaler.transform(df)\n",
    "scaled_data"
   ]
  },
  {
   "cell_type": "code",
   "execution_count": 14,
   "id": "communist-harvard",
   "metadata": {},
   "outputs": [
    {
     "data": {
      "text/plain": [
       "array([[ 0.18409579,  0.3764703 ],\n",
       "       [-2.17446098, -1.83562966],\n",
       "       [ 0.21674948, -2.98549528],\n",
       "       [ 6.03405456, -1.37858241]])"
      ]
     },
     "execution_count": 14,
     "metadata": {},
     "output_type": "execute_result"
    }
   ],
   "source": [
    "from sklearn.cluster import KMeans\n",
    "k = 4\n",
    "kmeans = KMeans(n_clusters=k, random_state=0)\n",
    "labels = kmeans.fit_predict(scaled_data)\n",
    "kmeans.cluster_centers_"
   ]
  },
  {
   "cell_type": "markdown",
   "id": "banner-soundtrack",
   "metadata": {},
   "source": [
    "## Output from the algorithm"
   ]
  },
  {
   "cell_type": "code",
   "execution_count": 17,
   "id": "selective-religion",
   "metadata": {},
   "outputs": [
    {
     "name": "stdout",
     "output_type": "stream",
     "text": [
      "cluster 0 has 11439 samples\n",
      "cluster 1 has 1354 samples\n",
      "cluster 2 has 555 samples\n",
      "cluster 3 has 119 samples\n"
     ]
    },
    {
     "data": {
      "image/png": "[encoded data removed]",
      "text/plain": [
       "<Figure size 432x288 with 1 Axes>"
      ]
     },
     "metadata": {
      "needs_background": "light"
     },
     "output_type": "display_data"
    }
   ],
   "source": [
    "color = ['red', 'green', 'blue', 'yellow', 'black']\n",
    "for i in range(k):\n",
    "    plt.scatter(scaled_data[labels == i , 0] , scaled_data[labels == i , 1] , label = i)\n",
    "    print(\"cluster \" + str(i) + \" has \" + str(np.sum(labels == i)) + \" samples\")\n",
    "plt.scatter(kmeans.cluster_centers_[:,0] , kmeans.cluster_centers_[:,1] , s = 8, color = 'k')\n",
    "\n",
    "plt.legend()\n",
    "plt.show()"
   ]
  },
  {
   "cell_type": "markdown",
   "id": "polar-texas",
   "metadata": {},
   "source": [
    "## Use inertial (Within-cluster sum-of-squares) to measure the performance of Kmeans. Visually the cluster output looks reasonable. "
   ]
  },
  {
   "cell_type": "code",
   "execution_count": 16,
   "id": "employed-boundary",
   "metadata": {},
   "outputs": [
    {
     "data": {
      "text/plain": [
       "4428.809480662778"
      ]
     },
     "execution_count": 16,
     "metadata": {},
     "output_type": "execute_result"
    }
   ],
   "source": [
    "kmeans.inertia_"
   ]
  },
  {
   "cell_type": "code",
   "execution_count": 8,
   "id": "internal-report",
   "metadata": {},
   "outputs": [],
   "source": [
    "kmeans_inertia = pd.DataFrame(data=[], index=range(2, 21), columns=['inertia'])\n",
    "\n",
    "for n_clusters in range(2, 21):\n",
    "    kmeans = KMeans(n_clusters=n_clusters)\n",
    "    cutoff = 99\n",
    "    kmeans.fit(scaled_data)\n",
    "    kmeans_inertia.loc[n_clusters] = kmeans.inertia_"
   ]
  },
  {
   "cell_type": "code",
   "execution_count": 9,
   "id": "interesting-cooperation",
   "metadata": {},
   "outputs": [
    {
     "data": {
      "image/png": "[encoded data removed]",
      "text/plain": [
       "<Figure size 432x288 with 1 Axes>"
      ]
     },
     "metadata": {
      "needs_background": "light"
     },
     "output_type": "display_data"
    }
   ],
   "source": [
    "ax = plt.gca()\n",
    "\n",
    "kmeans_inertia.plot(kind='line', y='inertia', ax=ax)\n",
    "plt.show()"
   ]
  },
  {
   "cell_type": "markdown",
   "id": "pleasant-birth",
   "metadata": {},
   "source": []
  },
  {
   "cell_type": "code",
   "execution_count": null,
   "id": "reduced-definition",
   "metadata": {},
   "outputs": [],
   "source": []
  }
 ],
 "metadata": {
  "kernelspec": {
   "display_name": "Python 3",
   "language": "python",
   "name": "python3"
  },
  "language_info": {
   "codemirror_mode": {
    "name": "ipython",
    "version": 3
   },
   "file_extension": ".py",
   "mimetype": "text/x-python",
   "name": "python",
   "nbconvert_exporter": "python",
   "pygments_lexer": "ipython3",
   "version": "3.9.2"
  }
 },
 "nbformat": 4,
 "nbformat_minor": 5
}

{
 "cells": [
  {
   "cell_type": "code",
   "execution_count": 1,
   "id": "manual-intro",
   "metadata": {},
   "outputs": [
    {
     "name": "stdout",
     "output_type": "stream",
     "text": [
      "<class 'pandas.core.frame.DataFrame'>\n",
      "Index: 315 entries,     \"kind\": \"youtube#videoCategoryListResponse\" to }\n",
      "Data columns (total 1 columns):\n",
      " #   Column  Non-Null Count  Dtype  \n",
      "---  ------  --------------  -----  \n",
      " 0   {       0 non-null      float64\n",
      "dtypes: float64(1)\n",
      "memory usage: 4.9+ KB\n"
     ]
    }
   ],
   "source": [
    "import pandas as pd\n",
    "## load the dataset\n",
    "df = pd.read_csv('CA_category_id.json')\n",
    "\n",
    "### there is no null value in the dataset\n",
    "df.info()"
   ]
  },
  {
   "cell_type": "code",
   "execution_count": 3,
   "id": "planned-somerset",
   "metadata": {},
   "outputs": [
    {
     "name": "stdout",
     "output_type": "stream",
     "text": [
      "<class 'pandas.core.frame.DataFrame'>\n",
      "RangeIndex: 45145 entries, 0 to 45144\n",
      "Data columns (total 16 columns):\n",
      " #   Column             Non-Null Count  Dtype \n",
      "---  ------             --------------  ----- \n",
      " 0   video_id           45145 non-null  object\n",
      " 1   title              45145 non-null  object\n",
      " 2   publishedAt        45145 non-null  object\n",
      " 3   channelId          45145 non-null  object\n",
      " 4   channelTitle       45145 non-null  object\n",
      " 5   categoryId         45145 non-null  int64 \n",
      " 6   trending_date      45145 non-null  object\n",
      " 7   tags               45145 non-null  object\n",
      " 8   view_count         45145 non-null  int64 \n",
      " 9   likes              45145 non-null  int64 \n",
      " 10  dislikes           45145 non-null  int64 \n",
      " 11  comment_count      45145 non-null  int64 \n",
      " 12  thumbnail_link     45145 non-null  object\n",
      " 13  comments_disabled  45145 non-null  bool  \n",
      " 14  ratings_disabled   45145 non-null  bool  \n",
      " 15  description        44848 non-null  object\n",
      "dtypes: bool(2), int64(5), object(9)\n",
      "memory usage: 4.9+ MB\n"
     ]
    },
    {
     "data": {
      "text/plain": [
       "0        KX06ksuS6Xo\n",
       "1        J78aPJ3VyNs\n",
       "2        M9Pmf9AB4Mo\n",
       "3        3C66w5Z0ixs\n",
       "4        VIUo6yapDbc\n",
       "            ...     \n",
       "45140    5vteamflh1E\n",
       "45141    l34boCGuYZU\n",
       "45142    9yDvp0cx3TY\n",
       "45143    DRE8nivsoxY\n",
       "45144    hxL9SWeGe8A\n",
       "Name: video_id, Length: 45145, dtype: object"
      ]
     },
     "execution_count": 3,
     "metadata": {},
     "output_type": "execute_result"
    }
   ],
   "source": [
    "df = pd.read_csv('CA_youtube_trending_data.csv')\n",
    "\n",
    "### there is no null value in the dataset\n",
    "df.info()\n",
    "\n"
   ]
  },
  {
   "cell_type": "code",
   "execution_count": 21,
   "id": "military-belarus",
   "metadata": {},
   "outputs": [
    {
     "data": {
      "text/plain": [
       "'CLASH official music video performed by DILJIT DOSANJH from his album G.O.A.T. Listen to the full album on Spotify ►https://spoti.fi/DiljitDosanjh_GOATFollow Diljit Dosanjh on Spotify ► https://spoti.fi/301R7wj Song: CLASHAlbum: G.O.A.T. Singer: Diljit DosanjhLyricist: Raj RanjodhMusic: The KiddModel: Komal BasranDirector: Rahul DuttaVideo Concept: San Dosanjh Production Team: Aastha Verma, Gursimran SinghBusiness Manager: Sonali SinghMix & Master: Dense (Dense Studios)Special Thanks: Kalikwest, Sukhi Dosanjh, Deep Sangha, Robbie Rai , DJ Johal #Clash #DiljitDosanjh #GOAT #GreatestOfAllTime #PunjabiSongs2020watch punjabi song G.O.A.T official video - https://youtu.be/cl0a3i2wFcc For latest punjabi songs and latest updatesSubscribe to DILJIT DOSANJH CHANNEL ► https://bit.ly/diljitdosanjhchannel Follow DILJIT DOSANJH online INSTAGRAM: https://www.instagram.com/diljitdosanjhTWITTER : https://twitter.com/diljitdosanjhFACEBOOK: https://www.facebook.com/DiljitDosanjhSNAPCHAT:https://www.snapchat.com/add/thisisdosanjhTRILLER:  @diljitdosanjh'"
      ]
     },
     "execution_count": 21,
     "metadata": {},
     "output_type": "execute_result"
    }
   ],
   "source": [
    "df['description'][0]"
   ]
  },
  {
   "cell_type": "code",
   "execution_count": 25,
   "id": "distinguished-blake",
   "metadata": {},
   "outputs": [
    {
     "data": {
      "text/html": [
       "<div>\n",
       "<style scoped>\n",
       "    .dataframe tbody tr th:only-of-type {\n",
       "        vertical-align: middle;\n",
       "    }\n",
       "\n",
       "    .dataframe tbody tr th {\n",
       "        vertical-align: top;\n",
       "    }\n",
       "\n",
       "    .dataframe thead th {\n",
       "        text-align: right;\n",
       "    }\n",
       "</style>\n",
       "<table border=\"1\" class=\"dataframe\">\n",
       "  <thead>\n",
       "    <tr style=\"text-align: right;\">\n",
       "      <th></th>\n",
       "      <th>view_count</th>\n",
       "      <th>likes</th>\n",
       "      <th>dislikes</th>\n",
       "      <th>comment_count</th>\n",
       "    </tr>\n",
       "  </thead>\n",
       "  <tbody>\n",
       "    <tr>\n",
       "      <th>view_count</th>\n",
       "      <td>1.000000</td>\n",
       "      <td>0.876877</td>\n",
       "      <td>0.730190</td>\n",
       "      <td>0.692619</td>\n",
       "    </tr>\n",
       "    <tr>\n",
       "      <th>likes</th>\n",
       "      <td>0.876877</td>\n",
       "      <td>1.000000</td>\n",
       "      <td>0.707345</td>\n",
       "      <td>0.776584</td>\n",
       "    </tr>\n",
       "    <tr>\n",
       "      <th>dislikes</th>\n",
       "      <td>0.730190</td>\n",
       "      <td>0.707345</td>\n",
       "      <td>1.000000</td>\n",
       "      <td>0.653744</td>\n",
       "    </tr>\n",
       "    <tr>\n",
       "      <th>comment_count</th>\n",
       "      <td>0.692619</td>\n",
       "      <td>0.776584</td>\n",
       "      <td>0.653744</td>\n",
       "      <td>1.000000</td>\n",
       "    </tr>\n",
       "  </tbody>\n",
       "</table>\n",
       "</div>"
      ],
      "text/plain": [
       "               view_count     likes  dislikes  comment_count\n",
       "view_count       1.000000  0.876877  0.730190       0.692619\n",
       "likes            0.876877  1.000000  0.707345       0.776584\n",
       "dislikes         0.730190  0.707345  1.000000       0.653744\n",
       "comment_count    0.692619  0.776584  0.653744       1.000000"
      ]
     },
     "execution_count": 25,
     "metadata": {},
     "output_type": "execute_result"
    }
   ],
   "source": [
    "attributes = ['view_count', 'likes', 'dislikes', 'comment_count']\n",
    "df_att = df[attributes]\n",
    "corr = df_att.corr()\n",
    "corr"
   ]
  },
  {
   "cell_type": "code",
   "execution_count": 26,
   "id": "threaded-apollo",
   "metadata": {},
   "outputs": [
    {
     "data": {
      "image/png": "[encoded data removed]",
      "text/plain": [
       "<Figure size 432x288 with 2 Axes>"
      ]
     },
     "metadata": {},
     "output_type": "display_data"
    }
   ],
   "source": [
    "import seaborn as sns; sns.set_theme()\n",
    "ax = sns.heatmap(corr)"
   ]
  },
  {
   "cell_type": "code",
   "execution_count": 32,
   "id": "inclusive-shield",
   "metadata": {},
   "outputs": [],
   "source": [
    "publish_time = pd.to_datetime(df['publishedAt'])\n",
    "df_time = pd.DataFrame(columns = ['time'])\n",
    "df_time['time'] = publish_time.dt.tz_convert('EST')"
   ]
  },
  {
   "cell_type": "code",
   "execution_count": 33,
   "id": "adapted-article",
   "metadata": {},
   "outputs": [],
   "source": [
    "df_hour = df_time.groupby(df_time[\"time\"].dt.hour).count()"
   ]
  },
  {
   "cell_type": "code",
   "execution_count": 34,
   "id": "former-carroll",
   "metadata": {},
   "outputs": [
    {
     "data": {
      "text/plain": [
       "<AxesSubplot:xlabel='time'>"
      ]
     },
     "execution_count": 34,
     "metadata": {},
     "output_type": "execute_result"
    },
    {
     "data": {
      "image/png": "[encoded data removed]",
      "text/plain": [
       "<Figure size 432x288 with 1 Axes>"
      ]
     },
     "metadata": {},
     "output_type": "display_data"
    }
   ],
   "source": [
    "df_hour.plot()"
   ]
  },
  {
   "cell_type": "code",
   "execution_count": 46,
   "id": "entertaining-worst",
   "metadata": {},
   "outputs": [],
   "source": [
    "trend_time = pd.to_datetime(df['trending_date'])\n",
    "\n",
    "df_time_t = pd.DataFrame(columns = ['trend_time'])\n",
    "df_time_t['trend_time'] = (trend_time - publish_time).dt.days"
   ]
  },
  {
   "cell_type": "code",
   "execution_count": 47,
   "id": "nervous-seminar",
   "metadata": {},
   "outputs": [
    {
     "data": {
      "text/plain": [
       "0        0\n",
       "1        0\n",
       "2        0\n",
       "3        0\n",
       "4        0\n",
       "        ..\n",
       "45140    5\n",
       "45141    7\n",
       "45142    6\n",
       "45143    5\n",
       "45144    6\n",
       "Name: trend_time, Length: 45145, dtype: int64"
      ]
     },
     "execution_count": 47,
     "metadata": {},
     "output_type": "execute_result"
    }
   ],
   "source": [
    "df_time_t['trend_time']"
   ]
  },
  {
   "cell_type": "code",
   "execution_count": 52,
   "id": "marked-latex",
   "metadata": {},
   "outputs": [
    {
     "data": {
      "image/png": "[encoded data removed]",
      "text/plain": [
       "<Figure size 432x288 with 1 Axes>"
      ]
     },
     "metadata": {},
     "output_type": "display_data"
    }
   ],
   "source": [
    "import matplotlib.pyplot as plt\n",
    "plt.hist(df_time_t['trend_time'], bins = 20)\n",
    "plt.show()"
   ]
  },
  {
   "cell_type": "code",
   "execution_count": null,
   "id": "destroyed-antigua",
   "metadata": {},
   "outputs": [],
   "source": []
  },
  {
   "cell_type": "code",
   "execution_count": null,
   "id": "rubber-kuwait",
   "metadata": {},
   "outputs": [],
   "source": []
  }
 ],
 "metadata": {
  "kernelspec": {
   "display_name": "Python 3",
   "language": "python",
   "name": "python3"
  },
  "language_info": {
   "codemirror_mode": {
    "name": "ipython",
    "version": 3
   },
   "file_extension": ".py",
   "mimetype": "text/x-python",
   "name": "python",
   "nbconvert_exporter": "python",
   "pygments_lexer": "ipython3",
   "version": "3.9.2"
  }
 },
 "nbformat": 4,
 "nbformat_minor": 5
}
